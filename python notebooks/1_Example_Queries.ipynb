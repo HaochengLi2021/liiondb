{
  "cells": [
    {
      "cell_type": "markdown",
      "metadata": {
        "id": "h0LHrm3NbXZY"
      },
      "source": [
        "# Example queries with LiionDB"
      ]
    },
    {
      "cell_type": "markdown",
      "metadata": {
        "id": "AOMyuxbfbXZZ"
      },
      "source": [
        "In this notebook we will give examples on how to interact with the liiondb in python by going through a series of example queries.\n",
        "A simplified interactive GUI is available online at [**www.liiondb.com**](www.liiondb.com)\n",
        "\n",
        "---\n",
        "* LiionDB is a database of DFN-type battery model parameters that accompanies the review manuscript: [**Parameterising Continuum-Level Li-ion Battery Models**.](https://www.overleaf.com/project/5ed63d9378cbf700018a2018).\n",
        "* If you use LiionDB in your work, please cite our paper at: [doi.org](https://www.doi.org/).\n",
        "---"
      ]
    },
    {
      "cell_type": "markdown",
      "metadata": {
        "id": "OrvJ_ZsJbXZZ"
      },
      "source": [
        "Start by cloning the liiondb library into this notebook & loading modules"
      ]
    },
    {
      "cell_type": "code",
      "execution_count": null,
      "metadata": {
        "colab": {
          "base_uri": "https://localhost:8080/"
        },
        "id": "Sur58GopQOiw",
        "outputId": "3dcefb70-d58b-4075-9051-7a9b9909b945"
      },
      "outputs": [
        {
          "name": "stdout",
          "output_type": "stream",
          "text": [
            "Cloning into 'liiondb'...\n",
            "remote: Enumerating objects: 193, done.\u001b[K\n",
            "remote: Counting objects: 100% (193/193), done.\u001b[K\n",
            "remote: Compressing objects: 100% (151/151), done.\u001b[K\n",
            "remote: Total 193 (delta 86), reused 85 (delta 32), pack-reused 0\u001b[K\n",
            "\u001b[KReceiving objects: 100% (193/193), 57.32 KiB | 1.51 MiB/s, done.\n",
            "\u001b[KResolving deltas: 100% (86/86), done.\n"
          ]
        }
      ],
      "source": [
        "%rm -rf liiondb #uncomment if refreshing\n",
        "!git clone https://github.com/ndrewwang/liiondb.git\n",
        "!pip install 'sqlalchemy==1.4.51'\n",
        "import pandas as pd\n",
        "import matplotlib.pyplot as plt\n",
        "import numpy as np\n",
        "import liiondb.functions.fn_db as fn_db\n",
        "dfndb, db_connection = fn_db.liiondb()"
      ]
    },
    {
      "cell_type": "markdown",
      "metadata": {
        "id": "-GCMP-YJQMVF"
      },
      "source": [
        "---\n",
        "### 1. OCV curves for cathodes with higher than 50% nickel content"
      ]
    },
    {
      "cell_type": "code",
      "execution_count": null,
      "metadata": {
        "colab": {
          "base_uri": "https://localhost:8080/",
          "height": 204
        },
        "id": "KNORd3RbQMVG",
        "outputId": "adee9961-f45e-40a2-eeb5-e156614ff8e9"
      },
      "outputs": [
        {
          "data": {
            "text/html": [
              "<div>\n",
              "<style scoped>\n",
              "    .dataframe tbody tr th:only-of-type {\n",
              "        vertical-align: middle;\n",
              "    }\n",
              "\n",
              "    .dataframe tbody tr th {\n",
              "        vertical-align: top;\n",
              "    }\n",
              "\n",
              "    .dataframe thead th {\n",
              "        text-align: right;\n",
              "    }\n",
              "</style>\n",
              "<table border=\"1\" class=\"dataframe\">\n",
              "  <thead>\n",
              "    <tr style=\"text-align: right;\">\n",
              "      <th></th>\n",
              "      <th>data_id</th>\n",
              "      <th>symbol</th>\n",
              "      <th>parameter</th>\n",
              "      <th>material</th>\n",
              "      <th>raw_data</th>\n",
              "      <th>units_output</th>\n",
              "      <th>paper_tag</th>\n",
              "      <th>doi</th>\n",
              "    </tr>\n",
              "  </thead>\n",
              "  <tbody>\n",
              "    <tr>\n",
              "      <th>0</th>\n",
              "      <td>129</td>\n",
              "      <td>${U_\\text{eq}}$</td>\n",
              "      <td>half cell ocv</td>\n",
              "      <td>NMC811</td>\n",
              "      <td>{{0.256747889,4.2935653},{0.25950522,4.2768621...</td>\n",
              "      <td>V</td>\n",
              "      <td>Chen2020</td>\n",
              "      <td>10.1149/1945-7111/ab9050</td>\n",
              "    </tr>\n",
              "    <tr>\n",
              "      <th>1</th>\n",
              "      <td>338</td>\n",
              "      <td>${U_\\text{eq}}$</td>\n",
              "      <td>half cell ocv</td>\n",
              "      <td>NMC622</td>\n",
              "      <td>{{0.0,4.4},{0.028439493,4.3054755039999995},{0...</td>\n",
              "      <td>V</td>\n",
              "      <td>Gao2018</td>\n",
              "      <td>10.1021/acs.jpclett.8b02229</td>\n",
              "    </tr>\n",
              "    <tr>\n",
              "      <th>2</th>\n",
              "      <td>422</td>\n",
              "      <td>${U_\\text{eq}}$</td>\n",
              "      <td>half cell ocv</td>\n",
              "      <td>NCA</td>\n",
              "      <td>None</td>\n",
              "      <td>V</td>\n",
              "      <td>Kim2011</td>\n",
              "      <td>10.1149/1.3597614</td>\n",
              "    </tr>\n",
              "    <tr>\n",
              "      <th>3</th>\n",
              "      <td>460</td>\n",
              "      <td>${U_\\text{eq}}$</td>\n",
              "      <td>half cell ocv</td>\n",
              "      <td>NCA</td>\n",
              "      <td>{{0.3690799576451973,4.208233276157805},{0.380...</td>\n",
              "      <td>V</td>\n",
              "      <td>Albertus2009</td>\n",
              "      <td>10.1149/1.3129656</td>\n",
              "    </tr>\n",
              "    <tr>\n",
              "      <th>4</th>\n",
              "      <td>593</td>\n",
              "      <td>${U_\\text{eq}}$</td>\n",
              "      <td>half cell ocv</td>\n",
              "      <td>NCA</td>\n",
              "      <td>{{0.13,4.55},{0.26,4.35},{0.28,4.25},{0.34,4.1...</td>\n",
              "      <td>V</td>\n",
              "      <td>Abraham2008</td>\n",
              "      <td>10.1016/j.electacta.2007.09.018</td>\n",
              "    </tr>\n",
              "  </tbody>\n",
              "</table>\n",
              "</div>"
            ],
            "text/plain": [
              "   data_id           symbol      parameter material  \\\n",
              "0      129  ${U_\\text{eq}}$  half cell ocv   NMC811   \n",
              "1      338  ${U_\\text{eq}}$  half cell ocv   NMC622   \n",
              "2      422  ${U_\\text{eq}}$  half cell ocv      NCA   \n",
              "3      460  ${U_\\text{eq}}$  half cell ocv      NCA   \n",
              "4      593  ${U_\\text{eq}}$  half cell ocv      NCA   \n",
              "\n",
              "                                            raw_data units_output  \\\n",
              "0  {{0.256747889,4.2935653},{0.25950522,4.2768621...            V   \n",
              "1  {{0.0,4.4},{0.028439493,4.3054755039999995},{0...            V   \n",
              "2                                               None            V   \n",
              "3  {{0.3690799576451973,4.208233276157805},{0.380...            V   \n",
              "4  {{0.13,4.55},{0.26,4.35},{0.28,4.25},{0.34,4.1...            V   \n",
              "\n",
              "      paper_tag                              doi  \n",
              "0      Chen2020         10.1149/1945-7111/ab9050  \n",
              "1       Gao2018      10.1021/acs.jpclett.8b02229  \n",
              "2       Kim2011                10.1149/1.3597614  \n",
              "3  Albertus2009                10.1149/1.3129656  \n",
              "4   Abraham2008  10.1016/j.electacta.2007.09.018  "
            ]
          },
          "execution_count": 3,
          "metadata": {},
          "output_type": "execute_result"
        }
      ],
      "source": [
        "QUERY = '''\n",
        "        SELECT DISTINCT data.data_id,parameter.symbol,parameter.name as parameter, material.name as material,data.raw_data, parameter.units_output, paper.paper_tag, paper.doi\n",
        "        FROM data\n",
        "        JOIN paper ON paper.paper_id = data.paper_id\n",
        "        JOIN material ON material.material_id = data.material_id\n",
        "        JOIN parameter ON parameter.parameter_id = data.parameter_id\n",
        "        WHERE parameter.name = 'half cell ocv'\n",
        "        AND material.ni > 0.5\n",
        "        '''\n",
        "df = pd.read_sql(QUERY,dfndb)\n",
        "df.head(5) #Print top 5 to save space"
      ]
    },
    {
      "cell_type": "markdown",
      "metadata": {
        "id": "QXUyGtNoQMVH"
      },
      "source": [
        "---\n",
        "### 2. Li diffusivities in graphite that are valid at 10 °C"
      ]
    },
    {
      "cell_type": "code",
      "execution_count": null,
      "metadata": {
        "colab": {
          "base_uri": "https://localhost:8080/",
          "height": 204
        },
        "id": "05fL8Tx7QMVH",
        "outputId": "7ce4886a-aeb7-48a0-e8a0-63415ffcc674"
      },
      "outputs": [
        {
          "data": {
            "text/html": [
              "<div>\n",
              "<style scoped>\n",
              "    .dataframe tbody tr th:only-of-type {\n",
              "        vertical-align: middle;\n",
              "    }\n",
              "\n",
              "    .dataframe tbody tr th {\n",
              "        vertical-align: top;\n",
              "    }\n",
              "\n",
              "    .dataframe thead th {\n",
              "        text-align: right;\n",
              "    }\n",
              "</style>\n",
              "<table border=\"1\" class=\"dataframe\">\n",
              "  <thead>\n",
              "    <tr style=\"text-align: right;\">\n",
              "      <th></th>\n",
              "      <th>data_id</th>\n",
              "      <th>symbol</th>\n",
              "      <th>parameter</th>\n",
              "      <th>material</th>\n",
              "      <th>raw_data</th>\n",
              "      <th>units_output</th>\n",
              "      <th>temp_range</th>\n",
              "      <th>paper_tag</th>\n",
              "      <th>doi</th>\n",
              "    </tr>\n",
              "  </thead>\n",
              "  <tbody>\n",
              "    <tr>\n",
              "      <th>0</th>\n",
              "      <td>69</td>\n",
              "      <td>$D$</td>\n",
              "      <td>diffusion coefficient</td>\n",
              "      <td>Graphite</td>\n",
              "      <td>{{0.04291659469592768,0.0000000000002531898360...</td>\n",
              "      <td>m^2*s^-1</td>\n",
              "      <td>NumericRange(Decimal('250'), Decimal('333'), '...</td>\n",
              "      <td>Ecker2015</td>\n",
              "      <td>10.1149/2.0551509jes</td>\n",
              "    </tr>\n",
              "    <tr>\n",
              "      <th>1</th>\n",
              "      <td>72</td>\n",
              "      <td>$D$</td>\n",
              "      <td>diffusion coefficient</td>\n",
              "      <td>Graphite</td>\n",
              "      <td>{{0.14962963,0.000000000000041723300000000003}...</td>\n",
              "      <td>m^2*s^-1</td>\n",
              "      <td>NumericRange(Decimal('250'), Decimal('333'), '...</td>\n",
              "      <td>Ecker2015</td>\n",
              "      <td>10.1149/2.0551509jes</td>\n",
              "    </tr>\n",
              "    <tr>\n",
              "      <th>2</th>\n",
              "      <td>74</td>\n",
              "      <td>$D$</td>\n",
              "      <td>diffusion coefficient</td>\n",
              "      <td>Graphite</td>\n",
              "      <td>{{0.033255915,0.000000000000109},{0.149546849,...</td>\n",
              "      <td>m^2*s^-1</td>\n",
              "      <td>NumericRange(Decimal('250'), Decimal('313'), '...</td>\n",
              "      <td>Schmalstieg2018</td>\n",
              "      <td>10.1149/2.0321816jes</td>\n",
              "    </tr>\n",
              "    <tr>\n",
              "      <th>3</th>\n",
              "      <td>663</td>\n",
              "      <td>$D$</td>\n",
              "      <td>diffusion coefficient</td>\n",
              "      <td>Graphite</td>\n",
              "      <td>{{0.0,0.0000000000001},{0.1,0.00000000000001},...</td>\n",
              "      <td>m^2*s^-1</td>\n",
              "      <td>NumericRange(Decimal('273'), Decimal('298'), '...</td>\n",
              "      <td>Cabanero2018</td>\n",
              "      <td>10.1149/2.0301805jes</td>\n",
              "    </tr>\n",
              "    <tr>\n",
              "      <th>4</th>\n",
              "      <td>938</td>\n",
              "      <td>$D$</td>\n",
              "      <td>diffusion coefficient</td>\n",
              "      <td>Graphite</td>\n",
              "      <td>0.000000000000001</td>\n",
              "      <td>m^2*s^-1</td>\n",
              "      <td>NumericRange(Decimal('283'), Decimal('283'), '...</td>\n",
              "      <td>Mastali2016</td>\n",
              "      <td>10.1149/2.1151613jes</td>\n",
              "    </tr>\n",
              "  </tbody>\n",
              "</table>\n",
              "</div>"
            ],
            "text/plain": [
              "   data_id symbol  ...        paper_tag                   doi\n",
              "0       69    $D$  ...        Ecker2015  10.1149/2.0551509jes\n",
              "1       72    $D$  ...        Ecker2015  10.1149/2.0551509jes\n",
              "2       74    $D$  ...  Schmalstieg2018  10.1149/2.0321816jes\n",
              "3      663    $D$  ...     Cabanero2018  10.1149/2.0301805jes\n",
              "4      938    $D$  ...      Mastali2016  10.1149/2.1151613jes\n",
              "\n",
              "[5 rows x 9 columns]"
            ]
          },
          "execution_count": 9,
          "metadata": {},
          "output_type": "execute_result"
        }
      ],
      "source": [
        "QUERY = '''\n",
        "        SELECT DISTINCT data.data_id,parameter.symbol,parameter.name as parameter, material.name as material,data.raw_data, parameter.units_output, data.temp_range, paper.paper_tag, paper.doi\n",
        "        FROM data\n",
        "        JOIN paper ON paper.paper_id = data.paper_id\n",
        "        JOIN material ON material.material_id = data.material_id\n",
        "        JOIN parameter ON parameter.parameter_id = data.parameter_id\n",
        "        WHERE parameter.name = 'diffusion coefficient'\n",
        "        AND material.class = 'negative'\n",
        "        AND material.gr = 1\n",
        "        AND 283 BETWEEN lower(data.temp_range) AND upper(data.temp_range)\n",
        "        '''\n",
        "df = pd.read_sql(QUERY,dfndb)\n",
        "df.head(5) #Print top 5 to save space"
      ]
    },
    {
      "cell_type": "markdown",
      "metadata": {
        "id": "nfM8iYzvQMVI"
      },
      "source": [
        "---\n",
        "### 3. See all separator porosities"
      ]
    },
    {
      "cell_type": "code",
      "execution_count": null,
      "metadata": {
        "id": "6Oioq-VlQMVI",
        "outputId": "29ca7749-d5a0-442e-9439-00f13be2532d"
      },
      "outputs": [
        {
          "data": {
            "text/html": [
              "<div>\n",
              "<style scoped>\n",
              "    .dataframe tbody tr th:only-of-type {\n",
              "        vertical-align: middle;\n",
              "    }\n",
              "\n",
              "    .dataframe tbody tr th {\n",
              "        vertical-align: top;\n",
              "    }\n",
              "\n",
              "    .dataframe thead th {\n",
              "        text-align: right;\n",
              "    }\n",
              "</style>\n",
              "<table border=\"1\" class=\"dataframe\">\n",
              "  <thead>\n",
              "    <tr style=\"text-align: right;\">\n",
              "      <th></th>\n",
              "      <th>data_id</th>\n",
              "      <th>name</th>\n",
              "      <th>name</th>\n",
              "      <th>paper_tag</th>\n",
              "      <th>raw_data</th>\n",
              "    </tr>\n",
              "  </thead>\n",
              "  <tbody>\n",
              "    <tr>\n",
              "      <th>0</th>\n",
              "      <td>21</td>\n",
              "      <td>porosity</td>\n",
              "      <td>Polymer Separator</td>\n",
              "      <td>Ecker2015</td>\n",
              "      <td>0.508</td>\n",
              "    </tr>\n",
              "    <tr>\n",
              "      <th>1</th>\n",
              "      <td>65</td>\n",
              "      <td>porosity</td>\n",
              "      <td>Polymer Separator</td>\n",
              "      <td>Schmalstieg2018</td>\n",
              "      <td>0.395</td>\n",
              "    </tr>\n",
              "    <tr>\n",
              "      <th>2</th>\n",
              "      <td>151</td>\n",
              "      <td>porosity</td>\n",
              "      <td>Polymer Separator</td>\n",
              "      <td>Chen2020</td>\n",
              "      <td>0.47</td>\n",
              "    </tr>\n",
              "    <tr>\n",
              "      <th>3</th>\n",
              "      <td>469</td>\n",
              "      <td>porosity</td>\n",
              "      <td>Polymer Separator</td>\n",
              "      <td>Albertus2009</td>\n",
              "      <td>0.37</td>\n",
              "    </tr>\n",
              "    <tr>\n",
              "      <th>4</th>\n",
              "      <td>504</td>\n",
              "      <td>porosity</td>\n",
              "      <td>Polymer Separator</td>\n",
              "      <td>Doyle2003</td>\n",
              "      <td>0.5</td>\n",
              "    </tr>\n",
              "  </tbody>\n",
              "</table>\n",
              "</div>"
            ],
            "text/plain": [
              "   data_id      name               name        paper_tag raw_data\n",
              "0       21  porosity  Polymer Separator        Ecker2015    0.508\n",
              "1       65  porosity  Polymer Separator  Schmalstieg2018    0.395\n",
              "2      151  porosity  Polymer Separator         Chen2020     0.47\n",
              "3      469  porosity  Polymer Separator     Albertus2009     0.37\n",
              "4      504  porosity  Polymer Separator        Doyle2003      0.5"
            ]
          },
          "execution_count": 35,
          "metadata": {},
          "output_type": "execute_result"
        }
      ],
      "source": [
        "QUERY = '''\n",
        "        SELECT DISTINCT data.data_id,parameter.name, material.name, paper.paper_tag,data.raw_data\n",
        "        FROM data\n",
        "        JOIN paper ON paper.paper_id = data.paper_id\n",
        "        JOIN material ON material.material_id = data.material_id\n",
        "        JOIN parameter ON parameter.parameter_id = data.parameter_id\n",
        "        WHERE parameter.name = 'porosity'\n",
        "        AND material.class = 'separator'\n",
        "        '''\n",
        "df = pd.read_sql(QUERY,dfndb)\n",
        "df.head(5) #Print top 5 to save space"
      ]
    },
    {
      "cell_type": "markdown",
      "metadata": {
        "id": "ZFEtRMjcQMVJ",
        "tags": []
      },
      "source": [
        "---\n",
        "### 4. All papers that publish parameters on LFP\n"
      ]
    },
    {
      "cell_type": "code",
      "execution_count": null,
      "metadata": {
        "id": "LO0R8LYVQMVJ",
        "outputId": "34d90740-1d72-4d16-a1ac-5543d52e8825"
      },
      "outputs": [
        {
          "data": {
            "text/html": [
              "<div>\n",
              "<style scoped>\n",
              "    .dataframe tbody tr th:only-of-type {\n",
              "        vertical-align: middle;\n",
              "    }\n",
              "\n",
              "    .dataframe tbody tr th {\n",
              "        vertical-align: top;\n",
              "    }\n",
              "\n",
              "    .dataframe thead th {\n",
              "        text-align: right;\n",
              "    }\n",
              "</style>\n",
              "<table border=\"1\" class=\"dataframe\">\n",
              "  <thead>\n",
              "    <tr style=\"text-align: right;\">\n",
              "      <th></th>\n",
              "      <th>paper_tag</th>\n",
              "      <th>title</th>\n",
              "      <th>doi</th>\n",
              "    </tr>\n",
              "  </thead>\n",
              "  <tbody>\n",
              "    <tr>\n",
              "      <th>0</th>\n",
              "      <td>Cabanero2018</td>\n",
              "      <td>Direct Determination of Diffusion Coefficients...</td>\n",
              "      <td>10.1149/2.0301805jes</td>\n",
              "    </tr>\n",
              "    <tr>\n",
              "      <th>1</th>\n",
              "      <td>Delacourt2011</td>\n",
              "      <td>Analysis of lithium deinsertion/insertion in {...</td>\n",
              "      <td>10.1016/j.electacta.2011.03.030</td>\n",
              "    </tr>\n",
              "    <tr>\n",
              "      <th>2</th>\n",
              "      <td>Farkhondeh2014</td>\n",
              "      <td>Full-Range Simulation of a Commercial {LiFePO}...</td>\n",
              "      <td>10.1149/2.094401jes</td>\n",
              "    </tr>\n",
              "    <tr>\n",
              "      <th>3</th>\n",
              "      <td>Han2004</td>\n",
              "      <td>Electrochemical modeling of intercalation proc...</td>\n",
              "      <td>10.1016/j.electacta.2004.05.024</td>\n",
              "    </tr>\n",
              "    <tr>\n",
              "      <th>4</th>\n",
              "      <td>Heubner2015</td>\n",
              "      <td>Investigation of charge transfer kinetics of L...</td>\n",
              "      <td>10.1016/j.jpowsour.2015.04.103</td>\n",
              "    </tr>\n",
              "  </tbody>\n",
              "</table>\n",
              "</div>"
            ],
            "text/plain": [
              "        paper_tag                                              title  \\\n",
              "0    Cabanero2018  Direct Determination of Diffusion Coefficients...   \n",
              "1   Delacourt2011  Analysis of lithium deinsertion/insertion in {...   \n",
              "2  Farkhondeh2014  Full-Range Simulation of a Commercial {LiFePO}...   \n",
              "3         Han2004  Electrochemical modeling of intercalation proc...   \n",
              "4     Heubner2015  Investigation of charge transfer kinetics of L...   \n",
              "\n",
              "                               doi  \n",
              "0             10.1149/2.0301805jes  \n",
              "1  10.1016/j.electacta.2011.03.030  \n",
              "2              10.1149/2.094401jes  \n",
              "3  10.1016/j.electacta.2004.05.024  \n",
              "4   10.1016/j.jpowsour.2015.04.103  "
            ]
          },
          "execution_count": 44,
          "metadata": {},
          "output_type": "execute_result"
        }
      ],
      "source": [
        "QUERY = '''\n",
        "        SELECT DISTINCT paper.paper_tag, paper.title, paper.doi\n",
        "        FROM paper\n",
        "        JOIN data ON data.paper_id = paper.paper_id\n",
        "        JOIN material ON data.material_id = material.material_id\n",
        "        WHERE material.name = 'LFP'\n",
        "        '''\n",
        "df = pd.read_sql(QUERY,dfndb)\n",
        "df.head(5) #Print top 5 to save space"
      ]
    },
    {
      "cell_type": "markdown",
      "metadata": {
        "id": "q9iOA-mVQMVK",
        "tags": []
      },
      "source": [
        "---\n",
        "### 5. Parameters that have been measured with EIS\n"
      ]
    },
    {
      "cell_type": "code",
      "execution_count": null,
      "metadata": {
        "id": "2yI-6HN7QMVK",
        "outputId": "c99eb779-c6b9-412d-a4f7-c9e6c0e14b9a"
      },
      "outputs": [
        {
          "data": {
            "text/html": [
              "<div>\n",
              "<style scoped>\n",
              "    .dataframe tbody tr th:only-of-type {\n",
              "        vertical-align: middle;\n",
              "    }\n",
              "\n",
              "    .dataframe tbody tr th {\n",
              "        vertical-align: top;\n",
              "    }\n",
              "\n",
              "    .dataframe thead th {\n",
              "        text-align: right;\n",
              "    }\n",
              "</style>\n",
              "<table border=\"1\" class=\"dataframe\">\n",
              "  <thead>\n",
              "    <tr style=\"text-align: right;\">\n",
              "      <th></th>\n",
              "      <th>name</th>\n",
              "    </tr>\n",
              "  </thead>\n",
              "  <tbody>\n",
              "    <tr>\n",
              "      <th>0</th>\n",
              "      <td>tortuosity</td>\n",
              "    </tr>\n",
              "    <tr>\n",
              "      <th>1</th>\n",
              "      <td>liquid phase transport efficiency</td>\n",
              "    </tr>\n",
              "    <tr>\n",
              "      <th>2</th>\n",
              "      <td>exchange current density</td>\n",
              "    </tr>\n",
              "    <tr>\n",
              "      <th>3</th>\n",
              "      <td>porosity</td>\n",
              "    </tr>\n",
              "    <tr>\n",
              "      <th>4</th>\n",
              "      <td>reaction rate constant</td>\n",
              "    </tr>\n",
              "    <tr>\n",
              "      <th>5</th>\n",
              "      <td>ionic conductivity</td>\n",
              "    </tr>\n",
              "    <tr>\n",
              "      <th>6</th>\n",
              "      <td>diffusion coefficient</td>\n",
              "    </tr>\n",
              "  </tbody>\n",
              "</table>\n",
              "</div>"
            ],
            "text/plain": [
              "                                name\n",
              "0                         tortuosity\n",
              "1  liquid phase transport efficiency\n",
              "2           exchange current density\n",
              "3                           porosity\n",
              "4             reaction rate constant\n",
              "5                 ionic conductivity\n",
              "6              diffusion coefficient"
            ]
          },
          "execution_count": 45,
          "metadata": {},
          "output_type": "execute_result"
        }
      ],
      "source": [
        "QUERY = '''\n",
        "        SELECT DISTINCT parameter.name\n",
        "        FROM parameter\n",
        "        JOIN data ON data.parameter_id = parameter.parameter_id\n",
        "        JOIN data_method ON data.data_id = data_method.data_id\n",
        "        JOIN method ON data_method.method_id = method.method_id\n",
        "        WHERE  method.name = 'EIS'\n",
        "        '''\n",
        "df = pd.read_sql(QUERY,dfndb)\n",
        "df"
      ]
    },
    {
      "cell_type": "markdown",
      "metadata": {
        "id": "Xf_BUs5jQMVL",
        "tags": []
      },
      "source": [
        "---\n",
        "### 6. Full electrolyte parameterizations\n"
      ]
    },
    {
      "cell_type": "code",
      "execution_count": null,
      "metadata": {
        "id": "HjMFTuhEQMVL",
        "outputId": "c4bf52e7-7c27-4c79-f27e-b1d31df0f705"
      },
      "outputs": [
        {
          "data": {
            "text/html": [
              "<div>\n",
              "<style scoped>\n",
              "    .dataframe tbody tr th:only-of-type {\n",
              "        vertical-align: middle;\n",
              "    }\n",
              "\n",
              "    .dataframe tbody tr th {\n",
              "        vertical-align: top;\n",
              "    }\n",
              "\n",
              "    .dataframe thead th {\n",
              "        text-align: right;\n",
              "    }\n",
              "</style>\n",
              "<table border=\"1\" class=\"dataframe\">\n",
              "  <thead>\n",
              "    <tr style=\"text-align: right;\">\n",
              "      <th></th>\n",
              "      <th>name</th>\n",
              "      <th>paper_tag</th>\n",
              "      <th>param_name</th>\n",
              "    </tr>\n",
              "  </thead>\n",
              "  <tbody>\n",
              "    <tr>\n",
              "      <th>0</th>\n",
              "      <td>LiPF6:EC:DMC 1:1</td>\n",
              "      <td>Farkhondeh2014</td>\n",
              "      <td>transference number</td>\n",
              "    </tr>\n",
              "    <tr>\n",
              "      <th>1</th>\n",
              "      <td>LiPF6:PC</td>\n",
              "      <td>Stewart2008</td>\n",
              "      <td>thermodynamic factor</td>\n",
              "    </tr>\n",
              "    <tr>\n",
              "      <th>2</th>\n",
              "      <td>LiPF6:EC:EMC 3:7</td>\n",
              "      <td>Nyman2008</td>\n",
              "      <td>transference number</td>\n",
              "    </tr>\n",
              "    <tr>\n",
              "      <th>3</th>\n",
              "      <td>LiPF6:EMC</td>\n",
              "      <td>Logan2018</td>\n",
              "      <td>ionic conductivity</td>\n",
              "    </tr>\n",
              "    <tr>\n",
              "      <th>4</th>\n",
              "      <td>LiTFSI:ACN</td>\n",
              "      <td>Lundgren2015</td>\n",
              "      <td>diffusion coefficient</td>\n",
              "    </tr>\n",
              "  </tbody>\n",
              "</table>\n",
              "</div>"
            ],
            "text/plain": [
              "               name       paper_tag             param_name\n",
              "0  LiPF6:EC:DMC 1:1  Farkhondeh2014    transference number\n",
              "1          LiPF6:PC     Stewart2008   thermodynamic factor\n",
              "2  LiPF6:EC:EMC 3:7       Nyman2008    transference number\n",
              "3         LiPF6:EMC       Logan2018     ionic conductivity\n",
              "4        LiTFSI:ACN    Lundgren2015  diffusion coefficient"
            ]
          },
          "execution_count": 47,
          "metadata": {},
          "output_type": "execute_result"
        }
      ],
      "source": [
        "QUERY = '''\n",
        "        SELECT DISTINCT material.name, paper.paper_tag, parameter.name as param_name\n",
        "        FROM material\n",
        "        JOIN data ON data.material_id = material.material_id\n",
        "        JOIN paper ON data.paper_id = paper.paper_id\n",
        "        JOIN parameter ON data.parameter_id = parameter.parameter_id\n",
        "        WHERE material.class = 'electrolyte'\n",
        "        AND parameter.name IN ('ionic conductivity','diffusion coefficient','transference number','thermodynamic factor')\n",
        "        '''\n",
        "df = pd.read_sql(QUERY,dfndb)\n",
        "df.head(5) #Print top 5 to save space\n",
        "# df"
      ]
    },
    {
      "cell_type": "markdown",
      "metadata": {
        "id": "HJPpxUAeQMVM",
        "tags": []
      },
      "source": [
        "---\n",
        "### 7. See the Doyle 1996 paper parameters\n"
      ]
    },
    {
      "cell_type": "code",
      "execution_count": null,
      "metadata": {
        "id": "LGScEFkCQMVM",
        "outputId": "a09cb8d3-aca0-4591-e250-9097b0e216eb"
      },
      "outputs": [
        {
          "data": {
            "text/html": [
              "<div>\n",
              "<style scoped>\n",
              "    .dataframe tbody tr th:only-of-type {\n",
              "        vertical-align: middle;\n",
              "    }\n",
              "\n",
              "    .dataframe tbody tr th {\n",
              "        vertical-align: top;\n",
              "    }\n",
              "\n",
              "    .dataframe thead th {\n",
              "        text-align: right;\n",
              "    }\n",
              "</style>\n",
              "<table border=\"1\" class=\"dataframe\">\n",
              "  <thead>\n",
              "    <tr style=\"text-align: right;\">\n",
              "      <th></th>\n",
              "      <th>data_id</th>\n",
              "      <th>name</th>\n",
              "      <th>name</th>\n",
              "      <th>paper_tag</th>\n",
              "      <th>raw_data</th>\n",
              "      <th>units_output</th>\n",
              "      <th>notes</th>\n",
              "    </tr>\n",
              "  </thead>\n",
              "  <tbody>\n",
              "    <tr>\n",
              "      <th>0</th>\n",
              "      <td>296</td>\n",
              "      <td>diffusion coefficient</td>\n",
              "      <td>LMO</td>\n",
              "      <td>Doyle1996</td>\n",
              "      <td>0.0000000000001</td>\n",
              "      <td>m^2*s^-1</td>\n",
              "      <td>Assumed from literature in ref 9 from Doyle1996</td>\n",
              "    </tr>\n",
              "    <tr>\n",
              "      <th>1</th>\n",
              "      <td>297</td>\n",
              "      <td>electronic conductivity</td>\n",
              "      <td>LMO</td>\n",
              "      <td>Doyle1996</td>\n",
              "      <td>3.8</td>\n",
              "      <td>S*m^-1</td>\n",
              "      <td>Scaled using Bruggeman correction in particle ...</td>\n",
              "    </tr>\n",
              "    <tr>\n",
              "      <th>2</th>\n",
              "      <td>298</td>\n",
              "      <td>exchange current density</td>\n",
              "      <td>LMO</td>\n",
              "      <td>Doyle1996</td>\n",
              "      <td>0.8</td>\n",
              "      <td>A*m^-2</td>\n",
              "      <td>Assumed magnitude from typical intercalation k...</td>\n",
              "    </tr>\n",
              "    <tr>\n",
              "      <th>3</th>\n",
              "      <td>299</td>\n",
              "      <td>maximum concentration</td>\n",
              "      <td>LMO</td>\n",
              "      <td>Doyle1996</td>\n",
              "      <td>22860</td>\n",
              "      <td>mol*m^-3</td>\n",
              "      <td>Calculated from crystal density</td>\n",
              "    </tr>\n",
              "    <tr>\n",
              "      <th>4</th>\n",
              "      <td>300</td>\n",
              "      <td>particle radius</td>\n",
              "      <td>LMO</td>\n",
              "      <td>Doyle1996</td>\n",
              "      <td>0.0000085</td>\n",
              "      <td>m</td>\n",
              "      <td>Optimized from matching experimental data</td>\n",
              "    </tr>\n",
              "  </tbody>\n",
              "</table>\n",
              "</div>"
            ],
            "text/plain": [
              "   data_id                      name name  paper_tag         raw_data  \\\n",
              "0      296     diffusion coefficient  LMO  Doyle1996  0.0000000000001   \n",
              "1      297   electronic conductivity  LMO  Doyle1996              3.8   \n",
              "2      298  exchange current density  LMO  Doyle1996              0.8   \n",
              "3      299     maximum concentration  LMO  Doyle1996            22860   \n",
              "4      300           particle radius  LMO  Doyle1996        0.0000085   \n",
              "\n",
              "  units_output                                              notes  \n",
              "0     m^2*s^-1    Assumed from literature in ref 9 from Doyle1996  \n",
              "1       S*m^-1  Scaled using Bruggeman correction in particle ...  \n",
              "2       A*m^-2  Assumed magnitude from typical intercalation k...  \n",
              "3     mol*m^-3                    Calculated from crystal density  \n",
              "4            m          Optimized from matching experimental data  "
            ]
          },
          "execution_count": 50,
          "metadata": {},
          "output_type": "execute_result"
        }
      ],
      "source": [
        "QUERY = '''\n",
        "        SELECT DISTINCT data.data_id,parameter.name, material.name, paper.paper_tag,data.raw_data, parameter.units_output, data.notes\n",
        "        FROM data\n",
        "        JOIN paper ON paper.paper_id = data.paper_id\n",
        "        JOIN material ON material.material_id = data.material_id\n",
        "        JOIN parameter ON parameter.parameter_id = data.parameter_id\n",
        "        WHERE paper.paper_tag = 'Doyle1996'\n",
        "        '''\n",
        "df = pd.read_sql(QUERY,dfndb)\n",
        "df.head(5) #Print top 5 to save space\n",
        "# df"
      ]
    },
    {
      "cell_type": "code",
      "execution_count": null,
      "metadata": {
        "id": "xJQBHTCTQMVN"
      },
      "outputs": [],
      "source": []
    },
    {
      "cell_type": "code",
      "execution_count": null,
      "metadata": {
        "id": "TytQxQZqQMVN"
      },
      "outputs": [],
      "source": []
    }
  ],
  "metadata": {
    "colab": {
      "name": "1. Example Queries.ipynb",
      "provenance": []
    },
    "kernelspec": {
      "display_name": "Python 3",
      "language": "python",
      "name": "python3"
    },
    "language_info": {
      "codemirror_mode": {
        "name": "ipython",
        "version": 3
      },
      "file_extension": ".py",
      "mimetype": "text/x-python",
      "name": "python",
      "nbconvert_exporter": "python",
      "pygments_lexer": "ipython3",
      "version": "3.7.6"
    }
  },
  "nbformat": 4,
  "nbformat_minor": 0
}